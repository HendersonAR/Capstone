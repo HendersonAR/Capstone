{
 "cells": [
  {
   "cell_type": "code",
   "execution_count": 1,
   "id": "64f0a19b-c6c8-425c-b603-a2a5125150dd",
   "metadata": {},
   "outputs": [],
   "source": [
    "import requests\n",
    "from bs4 import BeautifulSoup"
   ]
  },
  {
   "cell_type": "code",
   "execution_count": 2,
   "id": "31774cb5-f0da-4ba1-9f55-94998f01294c",
   "metadata": {},
   "outputs": [],
   "source": [
    "login_url = 'https://stathead.com/users/login.cgi'\n",
    "target_url = 'https://stathead.com/fbref/player-season-finder.cgi'\n",
    "username = 'AndrewRH82'\n",
    "password = 'LoboBear821$!@$'"
   ]
  },
  {
   "cell_type": "code",
   "execution_count": 3,
   "id": "7dc2a72c-18a7-42b2-b0c1-1d2741230943",
   "metadata": {},
   "outputs": [
    {
     "name": "stdout",
     "output_type": "stream",
     "text": [
      "Login successful.\n"
     ]
    },
    {
     "ename": "NameError",
     "evalue": "name 'search_url' is not defined",
     "output_type": "error",
     "traceback": [
      "\u001b[0;31m---------------------------------------------------------------------------\u001b[0m",
      "\u001b[0;31mNameError\u001b[0m                                 Traceback (most recent call last)",
      "Cell \u001b[0;32mIn[3], line 23\u001b[0m\n\u001b[1;32m     20\u001b[0m \u001b[38;5;28mprint\u001b[39m(\u001b[38;5;124m\"\u001b[39m\u001b[38;5;124mLogin successful.\u001b[39m\u001b[38;5;124m\"\u001b[39m)\n\u001b[1;32m     22\u001b[0m \u001b[38;5;66;03m# Access the search page after logging in\u001b[39;00m\n\u001b[0;32m---> 23\u001b[0m search_page \u001b[38;5;241m=\u001b[39m session\u001b[38;5;241m.\u001b[39mget(search_url)\n\u001b[1;32m     24\u001b[0m soup \u001b[38;5;241m=\u001b[39m BeautifulSoup(search_page\u001b[38;5;241m.\u001b[39mcontent, \u001b[38;5;124m'\u001b[39m\u001b[38;5;124mhtml.parser\u001b[39m\u001b[38;5;124m'\u001b[39m)\n\u001b[1;32m     26\u001b[0m \u001b[38;5;66;03m# Locate the correct form by its ID\u001b[39;00m\n",
      "\u001b[0;31mNameError\u001b[0m: name 'search_url' is not defined"
     ]
    }
   ],
   "source": [
    "session = requests.Session()\n",
    "\n",
    "# Get the login page to retrieve any necessary hidden form fields\n",
    "login_page = session.get(login_url)\n",
    "soup = BeautifulSoup(login_page.content, 'html.parser')\n",
    "\n",
    "# Find any hidden form fields (if present)\n",
    "hidden_inputs = soup.find_all(\"input\", type=\"hidden\")\n",
    "form_data = {input.get(\"name\"): input.get(\"value\") for input in hidden_inputs}\n",
    "\n",
    "# Add your username and password to the form data\n",
    "form_data['username'] = username\n",
    "form_data['password'] = password\n",
    "\n",
    "# Submit the login form\n",
    "response = session.post(login_url, data=form_data)\n",
    "\n",
    "# Check if login was successful\n",
    "if \"login\" not in response.url:\n",
    "    print(\"Login successful.\")\n",
    "\n",
    "    # Access the search page after logging in\n",
    "    search_page = session.get(search_url)\n",
    "    soup = BeautifulSoup(search_page.content, 'html.parser')\n",
    "\n",
    "    # Locate the correct form by its ID\n",
    "    search_form = soup.find(\"form\", {\"id\": \"player-season-finder\"})\n",
    "    if not search_form:\n",
    "        print(\"Could not find the search form. Check the form ID.\")\n",
    "    else:\n",
    "        print(\"Search form found.\")\n",
    "\n",
    "    # Extract the form action URL\n",
    "    form_action = search_form.get('action', '')\n",
    "    if form_action.startswith('/'):\n",
    "        filter_url = f\"https://stathead.com{form_action}\"\n",
    "    else:\n",
    "        filter_url = f\"{search_url}{form_action}\"\n",
    "\n",
    "    print(f\"Submitting filters to: {filter_url}\")\n",
    "\n",
    "    # Define the search filters (update with actual filter names)\n",
    "    filter_data = {\n",
    "        'year_min': '2018-2019',  # Example: Filter for a specific season\n",
    "        'year_max': '2018-2019',\n",
    "        # Add other filters here if needed\n",
    "    }\n",
    "\n",
    "    # Include other hidden fields from the search form if required\n",
    "    hidden_inputs = search_form.find_all(\"input\", type=\"hidden\")\n",
    "    for input in hidden_inputs:\n",
    "        filter_data[input.get(\"name\")] = input.get(\"value\")\n",
    "\n",
    "    # Submit the filter form using POST\n",
    "    filtered_response = session.post(filter_url, data=filter_data)\n",
    "\n",
    "    # Check if the response is successful\n",
    "    if filtered_response.status_code == 200:\n",
    "        print(\"Filter form submitted successfully.\")\n",
    "    else:\n",
    "        print(f\"Filter form submission failed with status code: {filtered_response.status_code}\")\n",
    "        print(\"Trying GET request instead...\")\n",
    "        filtered_response = session.get(filter_url, params=filter_data)\n",
    "\n",
    "    # Parse the search results page\n",
    "    filtered_soup = BeautifulSoup(filtered_response.content, 'html.parser')\n",
    "\n",
    "    # Extract and display data from the results table\n",
    "    rows = filtered_soup.find_all('tr')\n",
    "    if not rows:\n",
    "        print(\"No data found. Check filter field names.\")\n",
    "    else:\n",
    "        print(\"Data retrieved successfully.\")\n",
    "        for row in rows:\n",
    "            print(row.get_text())\n",
    "\n",
    "else:\n",
    "    print(\"Login failed. Check your credentials.\")\n",
    "\n",
    "# Close the session\n",
    "session.close()"
   ]
  },
  {
   "cell_type": "code",
   "execution_count": null,
   "id": "6f440e05-7b5b-4403-baae-cb26e10ba258",
   "metadata": {},
   "outputs": [],
   "source": []
  }
 ],
 "metadata": {
  "kernelspec": {
   "display_name": "Python 3 (ipykernel)",
   "language": "python",
   "name": "python3"
  },
  "language_info": {
   "codemirror_mode": {
    "name": "ipython",
    "version": 3
   },
   "file_extension": ".py",
   "mimetype": "text/x-python",
   "name": "python",
   "nbconvert_exporter": "python",
   "pygments_lexer": "ipython3",
   "version": "3.12.4"
  }
 },
 "nbformat": 4,
 "nbformat_minor": 5
}
